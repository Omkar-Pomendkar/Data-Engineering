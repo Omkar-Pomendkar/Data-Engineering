{
 "cells": [
  {
   "cell_type": "markdown",
   "id": "43aec0f4",
   "metadata": {},
   "source": [
    "# Python Exception Handling\n"
   ]
  },
  {
   "cell_type": "code",
   "execution_count": 12,
   "id": "ae5c57d0",
   "metadata": {},
   "outputs": [
    {
     "name": "stdout",
     "output_type": "stream",
     "text": [
      "Try to make the Datatype similar\n"
     ]
    }
   ],
   "source": [
    "try:\n",
    "    a=1\n",
    "    b = \"omkmkmk\"\n",
    "    c = a+b\n",
    "        ## code block where exception can Occur a = b\n",
    "except TypeError:\n",
    "    print(\"Try to make the Datatype similar\")\n",
    "except NameError:\n",
    "    print(\"the user have not defined the Variable\")\n",
    "except Exception as ex:\n",
    "    print(ex)"
   ]
  },
  {
   "cell_type": "code",
   "execution_count": null,
   "id": "35f1c6ba",
   "metadata": {},
   "outputs": [],
   "source": []
  },
  {
   "cell_type": "code",
   "execution_count": null,
   "id": "ae777908",
   "metadata": {},
   "outputs": [],
   "source": []
  }
 ],
 "metadata": {
  "kernelspec": {
   "display_name": "Python 3 (ipykernel)",
   "language": "python",
   "name": "python3"
  },
  "language_info": {
   "codemirror_mode": {
    "name": "ipython",
    "version": 3
   },
   "file_extension": ".py",
   "mimetype": "text/x-python",
   "name": "python",
   "nbconvert_exporter": "python",
   "pygments_lexer": "ipython3",
   "version": "3.9.7"
  }
 },
 "nbformat": 4,
 "nbformat_minor": 5
}
