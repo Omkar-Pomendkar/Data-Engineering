{
 "cells": [
  {
   "cell_type": "markdown",
   "id": "ddf1a986",
   "metadata": {},
   "source": [
    "# Classes"
   ]
  },
  {
   "cell_type": "raw",
   "id": "03c142d7",
   "metadata": {},
   "source": [
    "# Class is a Object or Template of real  world Entitiy\n",
    "# Class is a user defined Datatypes\n",
    "\n",
    " Classes Contains  \n",
    "    Properties  -  Colour , Cost , Size\n",
    "    and \n",
    "    Behaviour   -  Make Calls , Watch Videos , Play Games\n",
    "  "
   ]
  },
  {
   "cell_type": "code",
   "execution_count": null,
   "id": "cf1fa599",
   "metadata": {},
   "outputs": [],
   "source": [
    "class Person:\n",
    "    def person_name(self):\n",
    "        self.person = person\n",
    "        "
   ]
  },
  {
   "cell_type": "markdown",
   "id": "1046cbbb",
   "metadata": {},
   "source": [
    "# Objects"
   ]
  },
  {
   "cell_type": "raw",
   "id": "fda2e8f5",
   "metadata": {},
   "source": [
    "# Objects are specific Instance of a Class\n",
    "# From Class we Create Object\n"
   ]
  },
  {
   "cell_type": "code",
   "execution_count": 2,
   "id": "55a6b345",
   "metadata": {},
   "outputs": [],
   "source": [
    "# Creation of Class\n"
   ]
  },
  {
   "cell_type": "code",
   "execution_count": 35,
   "id": "14a86a2b",
   "metadata": {},
   "outputs": [],
   "source": [
    "class Phone:\n",
    "    def phone_colour(self,colour):\n",
    "        self.colour =colour\n",
    "    \n",
    "    def phone_cost(self,cost):\n",
    "        self.cost =cost\n",
    "        \n",
    "    def show_phone_colour(self):\n",
    "        return self.colour\n",
    "    \n",
    "    def show_phone_cost(self):\n",
    "        return self.cost\n",
    "    \n",
    "    def make_calls(self):\n",
    "        print(\"Making a Call\")\n",
    "    \n",
    "    def play_games(self):\n",
    "        print(\"Playing Games\")\n",
    "        "
   ]
  },
  {
   "cell_type": "code",
   "execution_count": 36,
   "id": "6671766f",
   "metadata": {},
   "outputs": [],
   "source": [
    "p = Phone()"
   ]
  },
  {
   "cell_type": "code",
   "execution_count": 37,
   "id": "23955f26",
   "metadata": {},
   "outputs": [
    {
     "name": "stdout",
     "output_type": "stream",
     "text": [
      "Making a Call\n"
     ]
    }
   ],
   "source": [
    "p.make_calls()"
   ]
  },
  {
   "cell_type": "code",
   "execution_count": 38,
   "id": "581e4354",
   "metadata": {},
   "outputs": [
    {
     "name": "stdout",
     "output_type": "stream",
     "text": [
      "Playing Games\n"
     ]
    }
   ],
   "source": [
    "p.play_games()"
   ]
  },
  {
   "cell_type": "code",
   "execution_count": 39,
   "id": "6f7b3239",
   "metadata": {},
   "outputs": [],
   "source": [
    "p.phone_colour(\"red\")"
   ]
  },
  {
   "cell_type": "code",
   "execution_count": 40,
   "id": "cc581338",
   "metadata": {},
   "outputs": [],
   "source": [
    "p.phone_cost(9000)"
   ]
  },
  {
   "cell_type": "code",
   "execution_count": 41,
   "id": "9e997eb2",
   "metadata": {},
   "outputs": [
    {
     "data": {
      "text/plain": [
       "9000"
      ]
     },
     "execution_count": 41,
     "metadata": {},
     "output_type": "execute_result"
    }
   ],
   "source": [
    "p.show_phone_cost()"
   ]
  },
  {
   "cell_type": "markdown",
   "id": "08de9507",
   "metadata": {},
   "source": [
    "# Constructor"
   ]
  },
  {
   "cell_type": "code",
   "execution_count": 45,
   "id": "8d581bde",
   "metadata": {},
   "outputs": [],
   "source": [
    "# Constructor - It is a Special method whenever you create a Object at that same time you can assign Value to it\n",
    "# Constructor uses __init__ method for Creation\n",
    "# Creation of Class with Constructor"
   ]
  },
  {
   "cell_type": "code",
   "execution_count": 52,
   "id": "a69d8d32",
   "metadata": {},
   "outputs": [],
   "source": [
    "class Employee:\n",
    "    def __init__(self,name,age,salary,rollno):\n",
    "        self.name = name\n",
    "        self.age = age\n",
    "        self.salary = salary\n",
    "        self.rollno = rollno\n",
    "    \n",
    "    def employee_details(self):\n",
    "        print(\"Employee name is \",self.name)\n",
    "        print(\"Employee age is \",self.age)\n",
    "        print(\"Employee Salary is \",self.salary)\n",
    "        print(\"Employee Rollno  is \",self.rollno)\n",
    "    \n",
    "        "
   ]
  },
  {
   "cell_type": "code",
   "execution_count": 53,
   "id": "ace3e5b3",
   "metadata": {},
   "outputs": [],
   "source": [
    "e = Employee(\"Omkar\",25,3500,78)"
   ]
  },
  {
   "cell_type": "code",
   "execution_count": 54,
   "id": "1cccd281",
   "metadata": {},
   "outputs": [
    {
     "name": "stdout",
     "output_type": "stream",
     "text": [
      "Employee name is  Omkar\n",
      "Employee age is  25\n",
      "Employee Salary is  3500\n",
      "Employee Rollno  is  78\n"
     ]
    }
   ],
   "source": [
    "e.employee_details()"
   ]
  },
  {
   "cell_type": "markdown",
   "id": "2c9465c8",
   "metadata": {},
   "source": [
    "# Inheritance"
   ]
  },
  {
   "cell_type": "code",
   "execution_count": 55,
   "id": "594ca3f7",
   "metadata": {},
   "outputs": [],
   "source": [
    "# One Class can derive the Properties of another Class"
   ]
  },
  {
   "cell_type": "code",
   "execution_count": 56,
   "id": "d40c7f3d",
   "metadata": {},
   "outputs": [],
   "source": [
    "class Vehicle:\n",
    "    def __init__(self,mileage,cost):\n",
    "        self.mileage = mileage\n",
    "        self.cost = cost\n",
    "        \n",
    "    def show_details(self):\n",
    "        print(\"I am a Vehicle\")\n",
    "        print(\"Mileage of a Vehicle is\",self.mileage)\n",
    "        print(\"Cost of a Vehicle is\",self.cost)\n",
    "        \n",
    "        \n",
    "        "
   ]
  },
  {
   "cell_type": "code",
   "execution_count": 57,
   "id": "9f3953c5",
   "metadata": {},
   "outputs": [],
   "source": [
    "v = Vehicle(500,500)"
   ]
  },
  {
   "cell_type": "code",
   "execution_count": 58,
   "id": "8d556229",
   "metadata": {},
   "outputs": [
    {
     "name": "stdout",
     "output_type": "stream",
     "text": [
      "I am a Vehicle\n",
      "Mileage of a Vehicle is 500\n",
      "Cost of a Vehicle is 500\n"
     ]
    }
   ],
   "source": [
    "v.show_details()"
   ]
  },
  {
   "cell_type": "code",
   "execution_count": 59,
   "id": "70d19409",
   "metadata": {},
   "outputs": [],
   "source": [
    "class Car(Vehicle):\n",
    "    def show_car(self):\n",
    "        print(\"I am a car\")"
   ]
  },
  {
   "cell_type": "code",
   "execution_count": 60,
   "id": "c62a8a84",
   "metadata": {},
   "outputs": [],
   "source": [
    "c = Car(50,50)"
   ]
  },
  {
   "cell_type": "code",
   "execution_count": 62,
   "id": "1dec3189",
   "metadata": {},
   "outputs": [
    {
     "name": "stdout",
     "output_type": "stream",
     "text": [
      "I am a Vehicle\n",
      "Mileage of a Vehicle is 50\n",
      "Cost of a Vehicle is 50\n"
     ]
    }
   ],
   "source": [
    "c.show_details()\n"
   ]
  },
  {
   "cell_type": "code",
   "execution_count": 63,
   "id": "e881cd51",
   "metadata": {},
   "outputs": [
    {
     "name": "stdout",
     "output_type": "stream",
     "text": [
      "I am a car\n"
     ]
    }
   ],
   "source": [
    "c.show_car()"
   ]
  },
  {
   "cell_type": "code",
   "execution_count": null,
   "id": "3d83e457",
   "metadata": {},
   "outputs": [],
   "source": []
  }
 ],
 "metadata": {
  "kernelspec": {
   "display_name": "Python 3 (ipykernel)",
   "language": "python",
   "name": "python3"
  },
  "language_info": {
   "codemirror_mode": {
    "name": "ipython",
    "version": 3
   },
   "file_extension": ".py",
   "mimetype": "text/x-python",
   "name": "python",
   "nbconvert_exporter": "python",
   "pygments_lexer": "ipython3",
   "version": "3.9.7"
  }
 },
 "nbformat": 4,
 "nbformat_minor": 5
}
