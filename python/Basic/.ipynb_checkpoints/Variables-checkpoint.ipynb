{
 "cells": [
  {
   "cell_type": "code",
   "execution_count": 1,
   "id": "a5c258fb",
   "metadata": {},
   "outputs": [
    {
     "name": "stdout",
     "output_type": "stream",
     "text": [
      "Hello World\n"
     ]
    }
   ],
   "source": [
    "print(\"Hello World\")"
   ]
  },
  {
   "cell_type": "code",
   "execution_count": 1,
   "id": "3c98c5de",
   "metadata": {},
   "outputs": [
    {
     "name": "stdout",
     "output_type": "stream",
     "text": [
      "Ten is greater\n"
     ]
    }
   ],
   "source": [
    "# Python Indentation\n",
    "if 10>5:\n",
    "    print(\"Ten is greater\")\n",
    "    "
   ]
  },
  {
   "cell_type": "code",
   "execution_count": 2,
   "id": "97430f8b",
   "metadata": {},
   "outputs": [],
   "source": [
    "# python Variables"
   ]
  },
  {
   "cell_type": "code",
   "execution_count": 3,
   "id": "98c4a778",
   "metadata": {},
   "outputs": [],
   "source": [
    "a = 19\n",
    "b = \"String\""
   ]
  },
  {
   "cell_type": "code",
   "execution_count": 4,
   "id": "c2c5319a",
   "metadata": {},
   "outputs": [
    {
     "name": "stdout",
     "output_type": "stream",
     "text": [
      "19\n",
      "String\n"
     ]
    }
   ],
   "source": [
    "print(a)\n",
    "print(b)"
   ]
  },
  {
   "cell_type": "code",
   "execution_count": 6,
   "id": "41cfcf42",
   "metadata": {},
   "outputs": [
    {
     "data": {
      "text/plain": [
       "' Multiline Comments\\n    in Python'"
      ]
     },
     "execution_count": 6,
     "metadata": {},
     "output_type": "execute_result"
    }
   ],
   "source": [
    "# Comments\n",
    "# SingleLine Comments\n",
    "\"\"\" Multiline Comments\n",
    "    in Python \"\"\""
   ]
  },
  {
   "cell_type": "code",
   "execution_count": 7,
   "id": "ed5693d6",
   "metadata": {},
   "outputs": [],
   "source": [
    "# Creation of Variable"
   ]
  },
  {
   "cell_type": "code",
   "execution_count": 8,
   "id": "544203e6",
   "metadata": {},
   "outputs": [],
   "source": [
    "a = \"Omkar Pomendkar\""
   ]
  },
  {
   "cell_type": "code",
   "execution_count": 9,
   "id": "dda9ef83",
   "metadata": {},
   "outputs": [
    {
     "data": {
      "text/plain": [
       "str"
      ]
     },
     "execution_count": 9,
     "metadata": {},
     "output_type": "execute_result"
    }
   ],
   "source": [
    "type(a)"
   ]
  },
  {
   "cell_type": "code",
   "execution_count": 10,
   "id": "7360ccce",
   "metadata": {},
   "outputs": [],
   "source": [
    "# A String Variable can be declare using Single and Double Quote"
   ]
  },
  {
   "cell_type": "code",
   "execution_count": 11,
   "id": "80a6d91b",
   "metadata": {},
   "outputs": [],
   "source": [
    "d = \"Dog\"\n",
    "b = 'Bat'"
   ]
  },
  {
   "cell_type": "code",
   "execution_count": 12,
   "id": "302a9d87",
   "metadata": {},
   "outputs": [
    {
     "name": "stdout",
     "output_type": "stream",
     "text": [
      "Dog\n"
     ]
    }
   ],
   "source": [
    "print(d)"
   ]
  },
  {
   "cell_type": "code",
   "execution_count": 13,
   "id": "fabb2e6f",
   "metadata": {},
   "outputs": [
    {
     "name": "stdout",
     "output_type": "stream",
     "text": [
      "Bat\n"
     ]
    }
   ],
   "source": [
    "print(b)"
   ]
  },
  {
   "cell_type": "code",
   "execution_count": 14,
   "id": "13ed2f5d",
   "metadata": {},
   "outputs": [],
   "source": [
    "# Case Sensitive"
   ]
  },
  {
   "cell_type": "code",
   "execution_count": 16,
   "id": "7a3bd590",
   "metadata": {},
   "outputs": [],
   "source": [
    "a = 4\n",
    "A = \"Sallary\""
   ]
  },
  {
   "cell_type": "code",
   "execution_count": 17,
   "id": "6c9de060",
   "metadata": {},
   "outputs": [],
   "source": [
    "# Variable Names can be assign using 3 Types"
   ]
  },
  {
   "cell_type": "code",
   "execution_count": 18,
   "id": "70518ed7",
   "metadata": {},
   "outputs": [],
   "source": [
    "# Camel Case - omkarSanjayPomendkar\n",
    "# Pascal Case - OmkarSanjayPomendkar\n",
    "# Snake Case  - omkarsanjaypomendkar"
   ]
  },
  {
   "cell_type": "code",
   "execution_count": 19,
   "id": "4fcd2cf0",
   "metadata": {},
   "outputs": [],
   "source": [
    "# Variables assigining multiple Values"
   ]
  },
  {
   "cell_type": "code",
   "execution_count": 20,
   "id": "14ea3a55",
   "metadata": {},
   "outputs": [],
   "source": [
    "a,b,c = \"apple\",\"bat\",\"cat\""
   ]
  },
  {
   "cell_type": "code",
   "execution_count": 21,
   "id": "b47f50c3",
   "metadata": {},
   "outputs": [
    {
     "name": "stdout",
     "output_type": "stream",
     "text": [
      "apple bat cat\n"
     ]
    }
   ],
   "source": [
    "print(a,b,c)"
   ]
  },
  {
   "cell_type": "code",
   "execution_count": 22,
   "id": "c4f61fa1",
   "metadata": {},
   "outputs": [],
   "source": [
    "a=b=c = \"omkar Pomendkar\""
   ]
  },
  {
   "cell_type": "code",
   "execution_count": 23,
   "id": "6b55f9b0",
   "metadata": {},
   "outputs": [
    {
     "name": "stdout",
     "output_type": "stream",
     "text": [
      "omkar Pomendkar omkar Pomendkar omkar Pomendkar\n"
     ]
    }
   ],
   "source": [
    "print(a,b,c)"
   ]
  },
  {
   "cell_type": "code",
   "execution_count": 24,
   "id": "cda3ecb6",
   "metadata": {},
   "outputs": [],
   "source": [
    "# Unpacking a Collection (List , Tuple)"
   ]
  },
  {
   "cell_type": "code",
   "execution_count": 25,
   "id": "cd21dcd0",
   "metadata": {},
   "outputs": [],
   "source": [
    "l = [\"Omkar\",\"sanjay\",\"Pomendkar\"]"
   ]
  },
  {
   "cell_type": "code",
   "execution_count": 26,
   "id": "8069fbee",
   "metadata": {},
   "outputs": [],
   "source": [
    "a,b,c = l"
   ]
  },
  {
   "cell_type": "code",
   "execution_count": 27,
   "id": "3f552e8b",
   "metadata": {},
   "outputs": [
    {
     "name": "stdout",
     "output_type": "stream",
     "text": [
      "Omkar sanjay Pomendkar\n"
     ]
    }
   ],
   "source": [
    "print(a,b,c)"
   ]
  },
  {
   "cell_type": "code",
   "execution_count": 28,
   "id": "76983fc6",
   "metadata": {},
   "outputs": [],
   "source": [
    "# Global Variables - Variables that are Created outside a Function are Called Global Variables"
   ]
  },
  {
   "cell_type": "code",
   "execution_count": 32,
   "id": "a7612fdd",
   "metadata": {},
   "outputs": [
    {
     "name": "stdout",
     "output_type": "stream",
     "text": [
      "Omkar is a good Boy\n"
     ]
    }
   ],
   "source": [
    "a = \"good\"\n",
    "def test():\n",
    "    print(\"Omkar is a \" +a ,\"Boy\")\n",
    "    \n",
    "test()\n"
   ]
  },
  {
   "cell_type": "raw",
   "id": "82c9e4fb",
   "metadata": {},
   "source": [
    "\"\"\"\n",
    "The global Keyword\n",
    "Normally, when you create a variable inside a function, that variable is local, and can only be used inside that function.\n",
    "\n",
    "To create a global variable inside a function, you can use the global keyword.\"\"\""
   ]
  },
  {
   "cell_type": "code",
   "execution_count": null,
   "id": "6661a773",
   "metadata": {},
   "outputs": [],
   "source": []
  }
 ],
 "metadata": {
  "kernelspec": {
   "display_name": "Python 3 (ipykernel)",
   "language": "python",
   "name": "python3"
  },
  "language_info": {
   "codemirror_mode": {
    "name": "ipython",
    "version": 3
   },
   "file_extension": ".py",
   "mimetype": "text/x-python",
   "name": "python",
   "nbconvert_exporter": "python",
   "pygments_lexer": "ipython3",
   "version": "3.9.7"
  }
 },
 "nbformat": 4,
 "nbformat_minor": 5
}
