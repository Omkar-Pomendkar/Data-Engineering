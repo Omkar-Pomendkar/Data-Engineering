{
 "cells": [
  {
   "cell_type": "raw",
   "id": "a507de09",
   "metadata": {},
   "source": [
    "Strings\n",
    "Strings in python are surrounded by either single quotation marks, or double quotation marks.\n",
    "\n",
    "'hello' is the same as \"hello\".\n",
    "\n",
    "You can display a string literal with the print() function:"
   ]
  },
  {
   "cell_type": "code",
   "execution_count": 1,
   "id": "28b5ba07",
   "metadata": {},
   "outputs": [],
   "source": [
    "a = \"Computer\""
   ]
  },
  {
   "cell_type": "code",
   "execution_count": 2,
   "id": "b892e8d3",
   "metadata": {},
   "outputs": [
    {
     "name": "stdout",
     "output_type": "stream",
     "text": [
      "Computer\n"
     ]
    }
   ],
   "source": [
    "print(a)"
   ]
  },
  {
   "cell_type": "code",
   "execution_count": 3,
   "id": "fb4d7419",
   "metadata": {},
   "outputs": [
    {
     "data": {
      "text/plain": [
       "str"
      ]
     },
     "execution_count": 3,
     "metadata": {},
     "output_type": "execute_result"
    }
   ],
   "source": [
    "type(a)"
   ]
  },
  {
   "cell_type": "code",
   "execution_count": 4,
   "id": "c2cfac1e",
   "metadata": {},
   "outputs": [
    {
     "data": {
      "text/plain": [
       "8"
      ]
     },
     "execution_count": 4,
     "metadata": {},
     "output_type": "execute_result"
    }
   ],
   "source": [
    "len(a)"
   ]
  },
  {
   "cell_type": "code",
   "execution_count": 5,
   "id": "d8efb3c1",
   "metadata": {},
   "outputs": [],
   "source": [
    "a = \"\"\"orem ipsum dolor sit amet,\n",
    "consectetur adipiscing elit,\n",
    "sed do eiusm\"\"\""
   ]
  },
  {
   "cell_type": "code",
   "execution_count": 6,
   "id": "1e042f7a",
   "metadata": {},
   "outputs": [
    {
     "name": "stdout",
     "output_type": "stream",
     "text": [
      "orem ipsum dolor sit amet,\n",
      "consectetur adipiscing elit,\n",
      "sed do eiusm\n"
     ]
    }
   ],
   "source": [
    "print(a)"
   ]
  },
  {
   "cell_type": "code",
   "execution_count": 7,
   "id": "9854ceea",
   "metadata": {},
   "outputs": [],
   "source": [
    "# Strings can be used as ana Array"
   ]
  },
  {
   "cell_type": "code",
   "execution_count": 19,
   "id": "da1cf02c",
   "metadata": {},
   "outputs": [],
   "source": [
    "a = \"Computer Engineering\""
   ]
  },
  {
   "cell_type": "code",
   "execution_count": 20,
   "id": "c9185592",
   "metadata": {},
   "outputs": [],
   "source": [
    "\n",
    "# print(a[:])"
   ]
  },
  {
   "cell_type": "code",
   "execution_count": 23,
   "id": "238bbeae",
   "metadata": {},
   "outputs": [
    {
     "name": "stdout",
     "output_type": "stream",
     "text": [
      "g\n"
     ]
    }
   ],
   "source": [
    "print(a[-1:])"
   ]
  },
  {
   "cell_type": "code",
   "execution_count": 24,
   "id": "36f12f0a",
   "metadata": {},
   "outputs": [
    {
     "data": {
      "text/plain": [
       "'Comput'"
      ]
     },
     "execution_count": 24,
     "metadata": {},
     "output_type": "execute_result"
    }
   ],
   "source": [
    "a[0:6]"
   ]
  },
  {
   "cell_type": "code",
   "execution_count": 25,
   "id": "9050ff2a",
   "metadata": {},
   "outputs": [],
   "source": [
    "# Implementing For loop for String"
   ]
  },
  {
   "cell_type": "code",
   "execution_count": 26,
   "id": "2a4f4a27",
   "metadata": {},
   "outputs": [],
   "source": [
    "d = \"Google\""
   ]
  },
  {
   "cell_type": "code",
   "execution_count": 27,
   "id": "78d3ec46",
   "metadata": {},
   "outputs": [
    {
     "name": "stdout",
     "output_type": "stream",
     "text": [
      "G\n",
      "o\n",
      "o\n",
      "g\n",
      "l\n",
      "e\n"
     ]
    }
   ],
   "source": [
    "for i in d:\n",
    "    print(i)"
   ]
  },
  {
   "cell_type": "code",
   "execution_count": 28,
   "id": "f68a92b3",
   "metadata": {},
   "outputs": [],
   "source": [
    "# String Methood\n"
   ]
  },
  {
   "cell_type": "code",
   "execution_count": 29,
   "id": "aaddb92e",
   "metadata": {},
   "outputs": [],
   "source": [
    "c = \"computer\""
   ]
  },
  {
   "cell_type": "code",
   "execution_count": 30,
   "id": "9ee10847",
   "metadata": {},
   "outputs": [
    {
     "data": {
      "text/plain": [
       "'COMPUTER'"
      ]
     },
     "execution_count": 30,
     "metadata": {},
     "output_type": "execute_result"
    }
   ],
   "source": [
    "c.upper()"
   ]
  },
  {
   "cell_type": "raw",
   "id": "a3ebe50e",
   "metadata": {},
   "source": [
    "String Methods\n",
    "Python has a set of built-in methods that you can use on strings.\n",
    "\n",
    "Note: All string methods return new values. They do not change the original string.\n",
    "\n",
    "Method\tDescription\n",
    "capitalize()\tConverts the first character to upper case\n",
    "casefold()\tConverts string into lower case\n",
    "center()\tReturns a centered string\n",
    "count()\tReturns the number of times a specified value occurs in a string\n",
    "encode()\tReturns an encoded version of the string\n",
    "endswith()\tReturns true if the string ends with the specified value\n",
    "expandtabs()\tSets the tab size of the string\n",
    "find()\tSearches the string for a specified value and returns the position of where it was found\n",
    "format()\tFormats specified values in a string\n",
    "format_map()\tFormats specified values in a string\n",
    "index()\tSearches the string for a specified value and returns the position of where it was found\n",
    "isalnum()\tReturns True if all characters in the string are alphanumeric\n",
    "isalpha()\tReturns True if all characters in the string are in the alphabet\n",
    "isdecimal()\tReturns True if all characters in the string are decimals\n",
    "isdigit()\tReturns True if all characters in the string are digits\n",
    "isidentifier()\tReturns True if the string is an identifier\n",
    "islower()\tReturns True if all characters in the string are lower case\n",
    "isnumeric()\tReturns True if all characters in the string are numeric\n",
    "isprintable()\tReturns True if all characters in the string are printable\n",
    "isspace()\tReturns True if all characters in the string are whitespaces\n",
    "istitle()\tReturns True if the string follows the rules of a title\n",
    "isupper()\tReturns True if all characters in the string are upper case\n",
    "join()\tJoins the elements of an iterable to the end of the string\n",
    "ljust()\tReturns a left justified version of the string\n",
    "lower()\tConverts a string into lower case\n",
    "lstrip()\tReturns a left trim version of the string\n",
    "maketrans()\tReturns a translation table to be used in translations\n",
    "partition()\tReturns a tuple where the string is parted into three parts\n",
    "replace()\tReturns a string where a specified value is replaced with a specified value\n",
    "rfind()\tSearches the string for a specified value and returns the last position of where it was found\n",
    "rindex()\tSearches the string for a specified value and returns the last position of where it was found\n",
    "rjust()\tReturns a right justified version of the string\n",
    "rpartition()\tReturns a tuple where the string is parted into three parts\n",
    "rsplit()\tSplits the string at the specified separator, and returns a list\n",
    "rstrip()\tReturns a right trim version of the string\n",
    "split()\tSplits the string at the specified separator, and returns a list\n",
    "splitlines()\tSplits the string at line breaks and returns a list\n",
    "startswith()\tReturns true if the string starts with the specified value\n",
    "strip()\tReturns a trimmed version of the string\n",
    "swapcase()\tSwaps cases, lower case becomes upper case and vice versa\n",
    "title()\tConverts the first character of each word to upper case\n",
    "translate()\tReturns a translated string\n",
    "upper()\tConverts a string into upper case\n",
    "zfill()\tFills the string with a specified number of 0 values at the beginning\n",
    "\n"
   ]
  },
  {
   "cell_type": "code",
   "execution_count": 31,
   "id": "06f7c3b7",
   "metadata": {},
   "outputs": [],
   "source": [
    "# String Formatting"
   ]
  },
  {
   "cell_type": "code",
   "execution_count": 42,
   "id": "31b9de44",
   "metadata": {},
   "outputs": [
    {
     "name": "stdout",
     "output_type": "stream",
     "text": [
      "my School name is St Arnold High School\n"
     ]
    }
   ],
   "source": [
    "s = \"School\"\n",
    "d = \"my {} name is St Arnold High School\"\n",
    "print(d.format(s))"
   ]
  },
  {
   "cell_type": "code",
   "execution_count": 40,
   "id": "1f238ded",
   "metadata": {},
   "outputs": [
    {
     "name": "stdout",
     "output_type": "stream",
     "text": [
      "I want 3 pieces of item 567 for 49.95 dollars.\n"
     ]
    }
   ],
   "source": [
    "quantity = 3\n",
    "itemno = 567\n",
    "price = 49.95\n",
    "myorder = \"I want {} pieces of item {} for {} dollars.\"\n",
    "print(myorder.format(quantity, itemno, price))"
   ]
  },
  {
   "cell_type": "code",
   "execution_count": 43,
   "id": "52c5f8fc",
   "metadata": {},
   "outputs": [],
   "source": [
    "# Escape Characters"
   ]
  },
  {
   "cell_type": "raw",
   "id": "685376e0",
   "metadata": {},
   "source": [
    "Escape Characters\n",
    "Other escape characters used in Python:\n",
    "\n",
    "Code\tResult\tTry it\n",
    "\\'\tSingle Quote\t\n",
    "\\\\\tBackslash\t\n",
    "\\n\tNew Line\t\n",
    "\\r\tCarriage Return\t\n",
    "\\t\tTab\t\n",
    "\\b\tBackspace\t\n",
    "\\f\tForm Feed\t\n",
    "\\ooo\tOctal value\t\n",
    "\\xhh\tHex value"
   ]
  },
  {
   "cell_type": "code",
   "execution_count": 44,
   "id": "370a1861",
   "metadata": {},
   "outputs": [],
   "source": [
    "# Boolean"
   ]
  },
  {
   "cell_type": "code",
   "execution_count": 45,
   "id": "9fc14e52",
   "metadata": {},
   "outputs": [
    {
     "name": "stdout",
     "output_type": "stream",
     "text": [
      "True\n"
     ]
    }
   ],
   "source": [
    "print(True)"
   ]
  },
  {
   "cell_type": "code",
   "execution_count": 47,
   "id": "deee0e7a",
   "metadata": {},
   "outputs": [
    {
     "name": "stdout",
     "output_type": "stream",
     "text": [
      "False\n"
     ]
    }
   ],
   "source": [
    "print(False)"
   ]
  },
  {
   "cell_type": "code",
   "execution_count": 48,
   "id": "a5c535b4",
   "metadata": {},
   "outputs": [],
   "source": [
    "# Python Operators"
   ]
  },
  {
   "cell_type": "raw",
   "id": "534497b9",
   "metadata": {},
   "source": [
    "Python Arithmetic Operators\n",
    "Arithmetic operators are used with numeric values to perform common mathematical operations:\n",
    "\n",
    "Operator\tName\tExample\tTry it\n",
    "+\tAddition\tx + y\t\n",
    "-\tSubtraction\tx - y\t\n",
    "*\tMultiplication\tx * y\t\n",
    "/\tDivision\tx / y\t\n",
    "%\tModulus\tx % y\t\n",
    "**\tExponentiation\tx ** y\t\n",
    "//\tFloor division\tx // y\t\n",
    "Python Assignment Operators\n",
    "Assignment operators are used to assign values to variables:\n",
    "\n",
    "Operator\tExample\tSame As\tTry it\n",
    "=\tx = 5\tx = 5\t\n",
    "+=\tx += 3\tx = x + 3\t\n",
    "-=\tx -= 3\tx = x - 3\t\n",
    "*=\tx *= 3\tx = x * 3\t\n",
    "/=\tx /= 3\tx = x / 3\t\n",
    "%=\tx %= 3\tx = x % 3\t\n",
    "//=\tx //= 3\tx = x // 3\t\n",
    "**=\tx **= 3\tx = x ** 3\t\n",
    "&=\tx &= 3\tx = x & 3\t\n",
    "|=\tx |= 3\tx = x | 3\t\n",
    "^=\tx ^= 3\tx = x ^ 3\t\n",
    ">>=\tx >>= 3\tx = x >> 3\t\n",
    "<<=\tx <<= 3\tx = x << 3\t\n",
    "Python Comparison Operators\n",
    "Comparison operators are used to compare two values:\n",
    "\n",
    "Operator\tName\tExample\tTry it\n",
    "==\tEqual\tx == y\t\n",
    "!=\tNot equal\tx != y\t\n",
    ">\tGreater than\tx > y\t\n",
    "<\tLess than\tx < y\t\n",
    ">=\tGreater than or equal to\tx >= y\t\n",
    "<=\tLess than or equal to\tx <= y\t\n",
    "Python Logical Operators\n",
    "Logical operators are used to combine conditional statements:\n",
    "\n",
    "Operator\tDescription\tExample\tTry it\n",
    "and \tReturns True if both statements are true\tx < 5 and  x < 10\t\n",
    "or\tReturns True if one of the statements is true\tx < 5 or x < 4\t\n",
    "not\tReverse the result, returns False if the result is true\tnot(x < 5 and x < 10)\t\n",
    "Python Identity Operators\n",
    "Identity operators are used to compare the objects, not if they are equal, but if they are actually the same object, with the same memory location:\n",
    "\n",
    "Operator\tDescription\tExample\tTry it\n",
    "is \tReturns True if both variables are the same object\tx is y\t\n",
    "is not\tReturns True if both variables are not the same object\tx is not y\t\n",
    "Python Membership Operators\n",
    "Membership operators are used to test if a sequence is presented in an object:\n",
    "\n",
    "Operator\tDescription\tExample\tTry it\n",
    "in \tReturns True if a sequence with the specified value is present in the object\tx in y\t\n",
    "not in\tReturns True if a sequence with the specified value is not present in the object\tx not in y\t\n",
    "Python Bitwise Operators\n",
    "Bitwise operators are used to compare (binary) numbers:\n",
    "\n",
    "Operator\tName\tDescription\n",
    "& \tAND\tSets each bit to 1 if both bits are 1\n",
    "|\tOR\tSets each bit to 1 if one of two bits is 1\n",
    " ^\tXOR\tSets each bit to 1 if only one of two bits is 1\n",
    "~ \tNOT\tInverts all the bits\n",
    "<<\tZero fill left shift\tShift left by pushing zeros in from the right and let the leftmost bits fall off\n",
    ">>\tSigned right shift\tShift right by pushing copies of the leftmost bit in from the left, and let the rightmost bits fall off\n",
    "\n",
    "\n"
   ]
  },
  {
   "cell_type": "code",
   "execution_count": null,
   "id": "cb1f7230",
   "metadata": {},
   "outputs": [],
   "source": []
  }
 ],
 "metadata": {
  "kernelspec": {
   "display_name": "Python 3 (ipykernel)",
   "language": "python",
   "name": "python3"
  },
  "language_info": {
   "codemirror_mode": {
    "name": "ipython",
    "version": 3
   },
   "file_extension": ".py",
   "mimetype": "text/x-python",
   "name": "python",
   "nbconvert_exporter": "python",
   "pygments_lexer": "ipython3",
   "version": "3.9.7"
  }
 },
 "nbformat": 4,
 "nbformat_minor": 5
}
